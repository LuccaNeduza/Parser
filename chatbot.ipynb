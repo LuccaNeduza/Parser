{
  "nbformat": 4,
  "nbformat_minor": 0,
  "metadata": {
    "colab": {
      "name": "Untitled0.ipynb",
      "provenance": [],
      "collapsed_sections": [],
      "authorship_tag": "ABX9TyOrFv2LProaBPxwKqA2KcFs",
      "include_colab_link": true
    },
    "kernelspec": {
      "name": "python3",
      "display_name": "Python 3"
    },
    "language_info": {
      "name": "python"
    }
  },
  "cells": [
    {
      "cell_type": "markdown",
      "metadata": {
        "id": "view-in-github",
        "colab_type": "text"
      },
      "source": [
        "<a href=\"https://colab.research.google.com/github/LuccaNeduza/Parser/blob/main/chatbot.ipynb\" target=\"_parent\"><img src=\"https://colab.research.google.com/assets/colab-badge.svg\" alt=\"Open In Colab\"/></a>"
      ]
    },
    {
      "cell_type": "code",
      "metadata": {
        "id": "DLRslkpTJK8L"
      },
      "source": [
        "# trabalho apresentado à disciplina de Construção de Interpretadores\n",
        "# professor: Frank Alcantara\n",
        "# estudante: Luiz Carlos R. Neduziak\n",
        "# foi construído um chatbot bastante simples baseado na metodologia retrieval chatbot\n",
        "# as perguntas devem ser escritas tal como previstas na variável 'pares' (base de conhecimento)\n",
        "# para sair do chat, deve-se digitar 'quit'"
      ],
      "execution_count": 1,
      "outputs": []
    },
    {
      "cell_type": "code",
      "metadata": {
        "id": "2wC1Fa_sJTZO"
      },
      "source": [
        "# importação da biblioteca NTLK e da classe Chat()\n",
        "from nltk.chat.util import Chat, reflections"
      ],
      "execution_count": 2,
      "outputs": []
    },
    {
      "cell_type": "code",
      "metadata": {
        "id": "0ePKsXJBJ_wy"
      },
      "source": [
        "# criação da variável 'pares'\n",
        "pares = [\n",
        "    [\n",
        "        r\"meu nome é (.*)\",\n",
        "        [\"Olá %1, Como vão as coisas?\", \"E ae %1, blz?\", \"Grande %1, tudo bem por aí?\"]\n",
        "    ],\n",
        "    [\n",
        "        r\"olá|hey|oi\",\n",
        "        [\"Olá\", \"E ae\", \"Fala meu caro\"]\n",
        "    ],\n",
        "    [\n",
        "        r\"tudo certo\",\n",
        "        [\"maravilha, show de bola\"]\n",
        "    ],\n",
        "    [\n",
        "        r\"qual é o seu nome ?\",\n",
        "        [\"Eu sou um robô fruto de uma disciplina de Contrução de Interpretadores!\", ]\n",
        "    ],\n",
        "    [\n",
        "        r\"como você está ?\",\n",
        "        [\"Eu estou bem e você ?\", ]\n",
        "    ],\n",
        "    [\n",
        "        r\"Eu sinto muito, mas não compreendi (.*)\",\n",
        "        [\"Sem problemas\", \"Relaxa\", ]\n",
        "    ],\n",
        "    [\n",
        "        r\"Estou bem\",\n",
        "        [\"Maravilha\", ]\n",
        "    ],\n",
        "    [\n",
        "        r\"Eu estou (.*) mandando bem\",\n",
        "        [\"Que bacana\", \"Como posso ajudá-lo:)\", ]\n",
        "    ],\n",
        "    [\n",
        "        r\"fim\",\n",
        "        [\"Obrigado pela conversa \", \"Foi um prazer em conhecê-lo :)\"]\n",
        "    ],\n",
        "    [\n",
        "        r\"qual é o seu time?\",\n",
        "        [\"sou atleticano com orgulho, dê uma olhada no site do time: https://www.athletico.com.br/ \", ]\n",
        "    ],\n",
        "]"
      ],
      "execution_count": 3,
      "outputs": []
    },
    {
      "cell_type": "code",
      "metadata": {
        "colab": {
          "base_uri": "https://localhost:8080/"
        },
        "id": "QGYj1sKwKMnM",
        "outputId": "62ba322c-99bd-422c-d962-ce1b6701b992"
      },
      "source": [
        "# geração da classe e implementação do bot\n",
        "def chat():\n",
        "    print(\"Olá! Eu sou um chatbot criado para a displina de Construção de Interpretadores! Qual o seu nome? \")\n",
        "    chat = Chat(pares, reflections)\n",
        "    chat.converse()\n",
        "\n",
        "\n",
        "chat()"
      ],
      "execution_count": 5,
      "outputs": [
        {
          "output_type": "stream",
          "name": "stdout",
          "text": [
            "Olá! Eu sou um chatbot criado para a displina de Construção de Interpretadores! Qual o seu nome? \n",
            ">quit\n",
            "None\n"
          ]
        }
      ]
    }
  ]
}